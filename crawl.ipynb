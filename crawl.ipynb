{
 "cells": [
  {
   "cell_type": "code",
   "execution_count": 1,
   "metadata": {},
   "outputs": [],
   "source": [
    "import requests, json\n",
    "import pandas as pd\n",
    "\n",
    "from model.post import Post"
   ]
  },
  {
   "cell_type": "code",
   "execution_count": 2,
   "metadata": {},
   "outputs": [],
   "source": [
    "def get_post(keyword: str, num_page: int):\n",
    "    url = \"https://www.grants.gov/grantsws/rest/opportunities/search/\"\n",
    "    headers = {\n",
    "        \"Accept\": \"application/json, text/javascript, */*; q=0.01\",\n",
    "        \"Accept-Encoding\": \"gzip, deflate, br\",\n",
    "        \"Accept-Language\": \"en-US,en;q=0.9\",\n",
    "        \"Connection\": \"keep-alive\",\n",
    "        \"Content-Length\": \"143\",\n",
    "        \"Content-Type\": \"application/json; charset=UTF-8\",\n",
    "        \"Cookie\": \"JSESSIONID=76CDCB5F1830D1CDB087A3A03E97BD7A; BIGipServerProd-Liferay-HTTPS-Pool=3473001738.32287.0000; BIGipServerProd-Apache-HTTP-Pool=3426864394.3367.0000; LFR_SESSION_STATE_5=1684661798222\",\n",
    "        \"Host\": \"www.grants.gov\",\n",
    "        \"Origin\": \"https://www.grants.gov\",\n",
    "        \"Referer\": \"https://www.grants.gov/custom/search.jsp\",\n",
    "        \"sec-ch-ua\": '\"Microsoft Edge\";v=\"113\", \"Chromium\";v=\"113\", \"Not-A.Brand\";v=\"24\"',\n",
    "        \"sec-ch-ua-platform\": \"Windows\",\n",
    "        \"User-Agent\": \"Mozilla/5.0 (Windows NT 10.0; Win64; x64) AppleWebKit/537.36 (KHTML, like Gecko) Chrome/113.0.0.0 Safari/537.36 Edg/113.0.1774.50\",\n",
    "        \"X-Requested-With\": \"XMLHttpRequest\"\n",
    "    }\n",
    "    payload = {\n",
    "        \"cfda\":\"\",\n",
    "        \"eligibilities\":\"23\",\n",
    "        \"keyword\":keyword,\n",
    "        \"oppNum\":\"\",\n",
    "        \"oppStatuses\":\"forecasted|posted\",\n",
    "        \"sortBy\":\"oppName|desc\",\n",
    "        \"startRecordNum\": num_page\n",
    "    }\n",
    "    data = requests.post(url=url,headers=headers,json=payload)\n",
    "    if data.status_code != 200:\n",
    "        raise ValueError(\"Request data fail!\",data.json())\n",
    "    return data\n",
    "\n",
    "\n",
    "def get_all_post(keyword: str):\n",
    "    num_page = 0\n",
    "    datas = []\n",
    "    while True:\n",
    "        data = get_post(keyword,num_page).json()['oppHits']\n",
    "        datas += data\n",
    "        if len(data) < 25 or data == []:\n",
    "            break\n",
    "        num_page += 25\n",
    "    return datas\n",
    "\n",
    "def get_detail_post(id_post: int):\n",
    "    cookies = {\n",
    "        'BIGipServerProd-Liferay-HTTPS-Pool': '3473001738.32287.0000',\n",
    "        'LFR_SESSION_STATE_5': '1684666108784',\n",
    "        'JSESSIONID': '9D8839E80CB1B729696FCC8D12A25B5F',\n",
    "        'BIGipServerProd-Apache-HTTP-Pool': '2483145994.3367.0000',\n",
    "    }\n",
    "\n",
    "    headers = {\n",
    "        'Accept': 'application/json, text/javascript, */*; q=0.01',\n",
    "        'Accept-Language': 'en-US,en;q=0.9',\n",
    "        'Connection': 'keep-alive',\n",
    "        'Content-Type': 'application/x-www-form-urlencoded; charset=UTF-8',\n",
    "        # 'Cookie': 'BIGipServerProd-Liferay-HTTPS-Pool=3473001738.32287.0000; LFR_SESSION_STATE_5=1684666108784; JSESSIONID=9D8839E80CB1B729696FCC8D12A25B5F; BIGipServerProd-Apache-HTTP-Pool=2483145994.3367.0000',\n",
    "        'Origin': 'https://www.grants.gov',\n",
    "        'Referer': f'https://www.grants.gov/custom/viewOppDetails.jsp?oppId={id_post}',\n",
    "        'Sec-Fetch-Dest': 'empty',\n",
    "        'Sec-Fetch-Mode': 'cors',\n",
    "        'Sec-Fetch-Site': 'same-origin',\n",
    "        'User-Agent': 'Mozilla/5.0 (Windows NT 10.0; Win64; x64) AppleWebKit/537.36 (KHTML, like Gecko) Chrome/113.0.0.0 Safari/537.36 Edg/113.0.1774.50',\n",
    "        'X-Requested-With': 'XMLHttpRequest',\n",
    "        'sec-ch-ua': '\"Microsoft Edge\";v=\"113\", \"Chromium\";v=\"113\", \"Not-A.Brand\";v=\"24\"',\n",
    "        'sec-ch-ua-mobile': '?0',\n",
    "        'sec-ch-ua-platform': '\"Windows\"',\n",
    "    }\n",
    "\n",
    "    data = {\n",
    "        'oppId': id_post,\n",
    "    }\n",
    "\n",
    "    response = requests.post('https://www.grants.gov/grantsws/rest/opportunity/details', cookies=cookies, headers=headers, data=data)\n",
    "    if response.status_code != 200:\n",
    "        raise ValueError(\"Request data fail!\",data.json())\n",
    "    return response"
   ]
  },
  {
   "cell_type": "code",
   "execution_count": 16,
   "metadata": {},
   "outputs": [],
   "source": [
    "keyword = 'education'\n",
    "datas = get_all_post(keyword)"
   ]
  },
  {
   "cell_type": "code",
   "execution_count": 3,
   "metadata": {},
   "outputs": [],
   "source": [
    "# df = pd.DataFrame(datas)\n",
    "# df.to_csv(f'../data/{keyword}.csv')\n",
    "df = pd.read_csv(f'data/education.csv')"
   ]
  },
  {
   "cell_type": "code",
   "execution_count": 5,
   "metadata": {},
   "outputs": [],
   "source": [
    "posts = []\n",
    "for idx, row in df.iterrows():\n",
    "    d_post = row.to_dict()\n",
    "    d_data =get_detail_post(int(row['id'])).json()\n",
    "    \n",
    "    post = Post()\n",
    "    post.convert_structure(d_post,d_data)\n",
    "    post_detail = post.__dict__\n",
    "    posts.append(post_detail)\n",
    "    break"
   ]
  },
  {
   "cell_type": "code",
   "execution_count": 7,
   "metadata": {},
   "outputs": [],
   "source": [
    "pd.DataFrame(posts).to_csv('data/post_education.csv',index=False)"
   ]
  },
  {
   "cell_type": "code",
   "execution_count": null,
   "metadata": {},
   "outputs": [],
   "source": []
  }
 ],
 "metadata": {
  "kernelspec": {
   "display_name": "base",
   "language": "python",
   "name": "python3"
  },
  "language_info": {
   "codemirror_mode": {
    "name": "ipython",
    "version": 3
   },
   "file_extension": ".py",
   "mimetype": "text/x-python",
   "name": "python",
   "nbconvert_exporter": "python",
   "pygments_lexer": "ipython3",
   "version": "3.9.13"
  },
  "orig_nbformat": 4
 },
 "nbformat": 4,
 "nbformat_minor": 2
}
